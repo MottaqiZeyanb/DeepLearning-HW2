{
  "cells": [
    {
      "cell_type": "markdown",
      "metadata": {
        "id": "G7rtu9shB0sS"
      },
      "source": [
        "## Student ID\n",
        ">> `Zeynab Mottaqi`\n",
        "\n",
        ">> `99206203`"
      ]
    },
    {
      "cell_type": "code",
      "execution_count": 1,
      "metadata": {
        "id": "ykKeiExHB0sZ"
      },
      "outputs": [],
      "source": [
        "'''\n",
        "\n",
        "Packages\n",
        "\n",
        "'''\n",
        "\n",
        "import numpy as np\n",
        "import matplotlib.pyplot as plt\n",
        "from torch import Tensor\n",
        "from torchvision.datasets import FashionMNIST\n",
        "from torchvision.transforms import ToTensor \n"
      ]
    },
    {
      "cell_type": "code",
      "execution_count": 2,
      "metadata": {
        "id": "lmRJhk78B0sc"
      },
      "outputs": [],
      "source": [
        "'''\n",
        "\n",
        "Tools\n",
        "\n",
        "'''\n",
        "def Data_to_Categorical(x, categs=None):\n",
        "    if not categs:\n",
        "        categs = np.amax(x) + 1\n",
        "    \n",
        "    Encodes = np.zeros((x.shape[0],categs))\n",
        "    Encodes[np.arange(x.shape[0]),x] = 1\n",
        "    return Encodes \n",
        "\n",
        "def Accuracy(y_real,y_pred):\n",
        "    return np.sum(y_real == y_pred,axis=0) / len(y_real)\n",
        "\n",
        "\n",
        "def Batching(X,y = None, batch = 64):\n",
        "    N_samples = X.shape[0]\n",
        "    for i in np.arange(0,N_samples,batch):\n",
        "        top, bottom = i, min(i+batch,N_samples)\n",
        "        if y is not None:\n",
        "            yield X[top:bottom], y[top:bottom]\n",
        "        else:\n",
        "            yield X[top:bottom]"
      ]
    },
    {
      "cell_type": "code",
      "execution_count": 3,
      "metadata": {
        "colab": {
          "base_uri": "https://localhost:8080/",
          "height": 289,
          "referenced_widgets": [
            "d923122d30e94adc84c362d050312abf",
            "e5fd2936c7b24274882b6cf9e60ce673",
            "ce1824ffcf914a65b9ef5c7e7ce221c3",
            "aa38dff54d6e4f37a60c405bf0bb3e47"
          ]
        },
        "id": "3K9ys7ZJB0se",
        "outputId": "10054d83-5d67-48d5-e017-4668d8cdb4e0"
      },
      "outputs": [
        {
          "output_type": "stream",
          "name": "stdout",
          "text": [
            "Downloading http://fashion-mnist.s3-website.eu-central-1.amazonaws.com/train-images-idx3-ubyte.gz\n",
            "Downloading http://fashion-mnist.s3-website.eu-central-1.amazonaws.com/train-images-idx3-ubyte.gz to data/FashionMNIST/raw/train-images-idx3-ubyte.gz\n"
          ]
        },
        {
          "output_type": "display_data",
          "data": {
            "text/plain": [
              "  0%|          | 0/26421880 [00:00<?, ?it/s]"
            ],
            "application/vnd.jupyter.widget-view+json": {
              "version_major": 2,
              "version_minor": 0,
              "model_id": "d923122d30e94adc84c362d050312abf"
            }
          },
          "metadata": {}
        },
        {
          "output_type": "stream",
          "name": "stdout",
          "text": [
            "Extracting data/FashionMNIST/raw/train-images-idx3-ubyte.gz to data/FashionMNIST/raw\n",
            "\n",
            "Downloading http://fashion-mnist.s3-website.eu-central-1.amazonaws.com/train-labels-idx1-ubyte.gz\n",
            "Downloading http://fashion-mnist.s3-website.eu-central-1.amazonaws.com/train-labels-idx1-ubyte.gz to data/FashionMNIST/raw/train-labels-idx1-ubyte.gz\n"
          ]
        },
        {
          "output_type": "display_data",
          "data": {
            "text/plain": [
              "  0%|          | 0/29515 [00:00<?, ?it/s]"
            ],
            "application/vnd.jupyter.widget-view+json": {
              "version_major": 2,
              "version_minor": 0,
              "model_id": "e5fd2936c7b24274882b6cf9e60ce673"
            }
          },
          "metadata": {}
        },
        {
          "output_type": "stream",
          "name": "stdout",
          "text": [
            "Extracting data/FashionMNIST/raw/train-labels-idx1-ubyte.gz to data/FashionMNIST/raw\n",
            "\n",
            "Downloading http://fashion-mnist.s3-website.eu-central-1.amazonaws.com/t10k-images-idx3-ubyte.gz\n",
            "Downloading http://fashion-mnist.s3-website.eu-central-1.amazonaws.com/t10k-images-idx3-ubyte.gz to data/FashionMNIST/raw/t10k-images-idx3-ubyte.gz\n"
          ]
        },
        {
          "output_type": "display_data",
          "data": {
            "text/plain": [
              "  0%|          | 0/4422102 [00:00<?, ?it/s]"
            ],
            "application/vnd.jupyter.widget-view+json": {
              "version_major": 2,
              "version_minor": 0,
              "model_id": "ce1824ffcf914a65b9ef5c7e7ce221c3"
            }
          },
          "metadata": {}
        },
        {
          "output_type": "stream",
          "name": "stdout",
          "text": [
            "Extracting data/FashionMNIST/raw/t10k-images-idx3-ubyte.gz to data/FashionMNIST/raw\n",
            "\n",
            "Downloading http://fashion-mnist.s3-website.eu-central-1.amazonaws.com/t10k-labels-idx1-ubyte.gz\n",
            "Downloading http://fashion-mnist.s3-website.eu-central-1.amazonaws.com/t10k-labels-idx1-ubyte.gz to data/FashionMNIST/raw/t10k-labels-idx1-ubyte.gz\n"
          ]
        },
        {
          "output_type": "display_data",
          "data": {
            "text/plain": [
              "  0%|          | 0/5148 [00:00<?, ?it/s]"
            ],
            "application/vnd.jupyter.widget-view+json": {
              "version_major": 2,
              "version_minor": 0,
              "model_id": "aa38dff54d6e4f37a60c405bf0bb3e47"
            }
          },
          "metadata": {}
        },
        {
          "output_type": "stream",
          "name": "stdout",
          "text": [
            "Extracting data/FashionMNIST/raw/t10k-labels-idx1-ubyte.gz to data/FashionMNIST/raw\n",
            "\n"
          ]
        }
      ],
      "source": [
        "## DataSet\n",
        "Train = FashionMNIST(train=True, root='data',download=True,transform=ToTensor())\n",
        "Test = FashionMNIST(train=False, root='data',download=True,transform=ToTensor())\n",
        "Classes = Test.classes\n"
      ]
    },
    {
      "cell_type": "code",
      "execution_count": 4,
      "metadata": {
        "colab": {
          "base_uri": "https://localhost:8080/",
          "height": 448
        },
        "id": "U-I2N4BAB0sg",
        "outputId": "294e78a6-1eca-406d-f5e7-17b58634f2c7"
      },
      "outputs": [
        {
          "output_type": "display_data",
          "data": {
            "text/plain": [
              "<Figure size 900x504 with 10 Axes>"
            ],
            "image/png": "[encoded data removed]"
          },
          "metadata": {
            "needs_background": "light"
          }
        }
      ],
      "source": [
        "Index = np.arange(0,10)\n",
        "\n",
        "fig ,axes = plt.subplots(2,5,figsize=(12.5,7))\n",
        "\n",
        "for i in range(len(Index)):\n",
        "    ax = axes[i//5, i%5]\n",
        "    ax.imshow(np.reshape(Train.data[i],(28,28)), cmap='gray')\n",
        "    ax.set_title('Label: {}'.format(Classes[Train.targets[i]]))\n",
        "plt.tight_layout()\n",
        "plt.show()"
      ]
    },
    {
      "cell_type": "code",
      "execution_count": 5,
      "metadata": {
        "id": "VY1NaFanB0si"
      },
      "outputs": [],
      "source": [
        "# Manipulating the data\n",
        "X_train = Tensor.numpy(Train.data).reshape(-1,784)\n",
        "y_train = Tensor.numpy(Train.targets)\n",
        "X_test = Tensor.numpy(Test.data).reshape(-1,784)\n",
        "y_test = Tensor.numpy(Test.targets)"
      ]
    },
    {
      "cell_type": "code",
      "execution_count": 6,
      "metadata": {
        "id": "TanWod_GB0si"
      },
      "outputs": [],
      "source": [
        "## Convert to categorical\n",
        "y_train_C, y_test_C = Data_to_Categorical(y_train.astype(\"int\")),Data_to_Categorical(y_test.astype(\"int\"))\n",
        "X_train, X_test = X_train/255.0 , X_test/255.0\n"
      ]
    },
    {
      "cell_type": "code",
      "execution_count": 7,
      "metadata": {
        "id": "00th4FxSB0sj"
      },
      "outputs": [],
      "source": [
        "## Neurons\n",
        "\n",
        "N_Dim = 28*28\n",
        "N_Out = 10\n",
        "N_Hid = 256"
      ]
    },
    {
      "cell_type": "code",
      "execution_count": 8,
      "metadata": {
        "id": "rZCj7LGwB0sl"
      },
      "outputs": [],
      "source": [
        "# Loss Calculation\n",
        "class CrossEntropy():\n",
        "    def __init__(self) -> None:\n",
        "        pass\n",
        "    def Loss(self,y_true, pred):\n",
        "        pred = np.clip(pred, 1e-15,1-1e-15)\n",
        "        return -y_true*np.log(pred) - (1-y_true)*np.log(1-pred)\n",
        "    \n",
        "    def Gradient(self,y_true, pred):\n",
        "        pred = np.clip(pred, 1e-15,1-1e-15)\n",
        "        return -(y_true/pred) + (1-y_true)/(1-pred)\n"
      ]
    },
    {
      "cell_type": "code",
      "execution_count": 9,
      "metadata": {
        "id": "xMGu1OtmB0sm"
      },
      "outputs": [],
      "source": [
        "# Activation functions \n",
        "class Relu():\n",
        "    def __init__(self) -> None:\n",
        "        pass\n",
        "\n",
        "    def __call__(self, x):\n",
        "        return self.Act(x)\n",
        "    def Act(self,x):\n",
        "        return np.where(x >= 0,x,0.0)\n",
        "    \n",
        "    def Gradient(self,x):\n",
        "        return np.where(x >= 0,1,0.0)\n",
        "\n",
        "\n",
        "class SoftMax():\n",
        "    def __init__(self) -> None:\n",
        "        pass\n",
        "\n",
        "    def __call__(self, x):\n",
        "        return self.Act(x)\n",
        "\n",
        "    def Act(self,x):\n",
        "        tmp = np.exp(x-np.max(x,axis=-1,keepdims=True))\n",
        "        return tmp/np.sum(tmp,axis=-1,keepdims=True)\n",
        "    \n",
        "    def Gradient(self,x):\n",
        "        tmp = self.Act(x)\n",
        "        return tmp * (1 - tmp)"
      ]
    },
    {
      "cell_type": "code",
      "execution_count": 10,
      "metadata": {
        "id": "nAcHqtrSB0sn"
      },
      "outputs": [],
      "source": [
        "# Wrappers for Neural Network\n",
        "class Act_wrapper():\n",
        "    def __init__(self,Act,Tag=\"Phi\"):\n",
        "        self.Act = Act\n",
        "        self.Grad = Act.Gradient\n",
        "        self.In = None\n",
        "        self.Out = None\n",
        "        self.Tag = Tag\n",
        "    \n",
        "    def Forward(self,x):\n",
        "        self.In = x\n",
        "        self.Out = self.Act(x)\n",
        "        return self.Out\n",
        "\n",
        "    def Backward(self,Error,lr=0.01):\n",
        "        return self.Grad(self.In) * Error\n",
        "\n",
        "    def __call__(self, x):\n",
        "        return self.Forward(x)\n",
        "        \n",
        "class Lin_Connector():\n",
        "    def __init__(self,N_In,N_Out,Tag=\"Connectivity\"):\n",
        "        self.W = 0.01*np.random.randn(N_In,N_Out)\n",
        "        self.b = np.zeros((1,N_Out))\n",
        "        self.In = None\n",
        "        self.Out = None\n",
        "        self.Tag = Tag\n",
        "    \n",
        "    def Forward(self,x):\n",
        "        self.In = x\n",
        "        self.Out = np.dot(self.In,self.W) + self.b\n",
        "\n",
        "        return self.Out\n",
        "\n",
        "    def Backward(self,Error,lr=0.01):\n",
        "        Diff = np.dot(Error,self.W.T)\n",
        "        tmp = np.dot(self.In.T,Error)\n",
        "        self.W -= lr * tmp\n",
        "        self.b -= lr * np.mean(Error)\n",
        "        return Diff\n",
        "\n",
        "    \n",
        "    def __call__(self, x):\n",
        "        return self.Forward(x)"
      ]
    },
    {
      "cell_type": "code",
      "execution_count": 11,
      "metadata": {
        "id": "0NnRG2MuB0so"
      },
      "outputs": [],
      "source": [
        "# Main Model\n",
        "class MyNet():\n",
        "    def __init__(self,In_dim,Out_dim,Hid_dim,lr=0.01):\n",
        "        self.layers = [\n",
        "            Lin_Connector(In_dim,Hid_dim,Tag=\"First Layer\"),\n",
        "            Act_wrapper(Relu(),Tag=\"Phi1\"),\n",
        "            Lin_Connector(Hid_dim,Hid_dim,Tag=\"Second Layer\"),\n",
        "            Act_wrapper(Relu(),Tag=\"Phi2\"),\n",
        "            Lin_Connector(Hid_dim,Out_dim,Tag=\"Last Layer\"),\n",
        "            Act_wrapper(SoftMax(),Tag=\"SoftMax\")\n",
        "        ]\n",
        "        self.lr = lr\n",
        "\n",
        "    def Forward(self,x):\n",
        "        for tmp in self.layers:\n",
        "            x = tmp(x)\n",
        "        return x\n",
        "    \n",
        "    def Backward(self,Loss):\n",
        "        for tmp in reversed(self.layers):\n",
        "            Loss = tmp.Backward(Loss,self.lr)\n",
        "\n",
        "    def __call__(self,x):\n",
        "        return self.Forward(x)\n",
        "        \n"
      ]
    },
    {
      "cell_type": "code",
      "execution_count": 12,
      "metadata": {
        "id": "NiHPda-BB0sq"
      },
      "outputs": [],
      "source": [
        "Cost = CrossEntropy()\n",
        "Model = MyNet(N_Dim,N_Out,N_Hid,lr=0.001)"
      ]
    },
    {
      "cell_type": "code",
      "execution_count": 13,
      "metadata": {
        "colab": {
          "base_uri": "https://localhost:8080/"
        },
        "id": "3Q1lhL8LB0sq",
        "outputId": "9de1b361-3cc3-436e-eee1-f7788465478c"
      },
      "outputs": [
        {
          "output_type": "stream",
          "name": "stdout",
          "text": [
            "At Epoch 1 / 5,Maximum Loss of Batch = 1.82E-01\n",
            "        , With Accuracy = 57.73%.\n",
            "At Epoch 2 / 5,Maximum Loss of Batch = 9.98E-02\n",
            "        , With Accuracy = 79.07%.\n",
            "At Epoch 3 / 5,Maximum Loss of Batch = 8.28E-02\n",
            "        , With Accuracy = 83.04%.\n",
            "At Epoch 4 / 5,Maximum Loss of Batch = 7.39E-02\n",
            "        , With Accuracy = 84.90%.\n",
            "At Epoch 5 / 5,Maximum Loss of Batch = 6.84E-02\n",
            "        , With Accuracy = 86.03%.\n"
          ]
        }
      ],
      "source": [
        "Epochs = 5\n",
        "for i in range(Epochs):\n",
        "    loss = []\n",
        "    Acc = []\n",
        "    for Batch_X,Batch_y in Batching(X_train,y_train_C):\n",
        "        Pred = Model(Batch_X)\n",
        "        loss.append(np.mean(Cost.Loss(Batch_y,Pred)))\n",
        "        Acc.append(Accuracy(np.argmax(Batch_y,axis=1),np.argmax(Pred,axis=1)))\n",
        "        Error = Cost.Gradient(Batch_y,Pred)\n",
        "        Model.Backward(Error)\n",
        "    print(f\"At Epoch {i+1} / {Epochs},Maximum Loss of Batch = {np.mean(loss):2.2E}\\n\\\n",
        "        , With Accuracy = {np.mean(Acc)*100:2.2f}%.\")"
      ]
    },
    {
      "cell_type": "code",
      "execution_count": 14,
      "metadata": {
        "colab": {
          "base_uri": "https://localhost:8080/"
        },
        "id": "UkcwfRo_B0sr",
        "outputId": "bda5f62b-79b9-4380-9a3b-0c4156a02b9a"
      },
      "outputs": [
        {
          "output_type": "stream",
          "name": "stdout",
          "text": [
            "The Validation Accuracy is 85.17%,     And Validation Loss is 7.11E-02.\n"
          ]
        }
      ],
      "source": [
        "# Validation \n",
        "Prediction = Model(X_test)\n",
        "Pred_Acc = Accuracy(np.argmax(y_test_C, axis=1),np.argmax(Prediction,axis=1))   \n",
        "Pred_Loss = np.mean(Cost.Loss(y_test_C,Prediction))\n",
        "print(f\"The Validation Accuracy is {Pred_Acc*100:2.2f}%,\\\n",
        "     And Validation Loss is {Pred_Loss:2.2E}.\")"
      ]
    },
    {
      "cell_type": "code",
      "execution_count": 15,
      "metadata": {
        "colab": {
          "base_uri": "https://localhost:8080/",
          "height": 1000
        },
        "id": "WgF0hrufB0ss",
        "outputId": "5e8f412b-0e02-4407-9a40-b3e2c4ce95fb"
      },
      "outputs": [
        {
          "output_type": "display_data",
          "data": {
            "text/plain": [
              "<Figure size 432x288 with 1 Axes>"
            ],
            "image/png": "[encoded data removed]"
          },
          "metadata": {
            "needs_background": "light"
          }
        },
        {
          "output_type": "display_data",
          "data": {
            "text/plain": [
              "<Figure size 432x288 with 1 Axes>"
            ],
            "image/png": "[encoded data removed]"
          },
          "metadata": {
            "needs_background": "light"
          }
        },
        {
          "output_type": "display_data",
          "data": {
            "text/plain": [
              "<Figure size 432x288 with 1 Axes>"
            ],
            "image/png": "[encoded data removed]"
          },
          "metadata": {
            "needs_background": "light"
          }
        },
        {
          "output_type": "display_data",
          "data": {
            "text/plain": [
              "<Figure size 432x288 with 1 Axes>"
            ],
            "image/png": "[encoded data removed]"
          },
          "metadata": {
            "needs_background": "light"
          }
        },
        {
          "output_type": "display_data",
          "data": {
            "text/plain": [
              "<Figure size 432x288 with 1 Axes>"
            ],
            "image/png": "[encoded data removed]"
          },
          "metadata": {
            "needs_background": "light"
          }
        },
        {
          "output_type": "display_data",
          "data": {
            "text/plain": [
              "<Figure size 432x288 with 1 Axes>"
            ],
            "image/png": "[encoded data removed]"
          },
          "metadata": {
            "needs_background": "light"
          }
        },
        {
          "output_type": "display_data",
          "data": {
            "text/plain": [
              "<Figure size 432x288 with 1 Axes>"
            ],
            "image/png": "[encoded data removed]"
          },
          "metadata": {
            "needs_background": "light"
          }
        },
        {
          "output_type": "display_data",
          "data": {
            "text/plain": [
              "<Figure size 432x288 with 1 Axes>"
            ],
            "image/png": "[encoded data removed]"
          },
          "metadata": {
            "needs_background": "light"
          }
        },
        {
          "output_type": "display_data",
          "data": {
            "text/plain": [
              "<Figure size 432x288 with 1 Axes>"
            ],
            "image/png": "[encoded data removed]"
          },
          "metadata": {
            "needs_background": "light"
          }
        }
      ],
      "source": [
        "np.random.seed(1000)\n",
        "random_index = np.random.randint(low=0,high=len(y_test_C),size=9)\n",
        "X,Y = X_test[random_index,:],y_test_C[random_index]\n",
        "Y_P = np.argmax(Model(X),axis=1)\n",
        "\n",
        "for i,j in enumerate(random_index):\n",
        "    plt.imshow(X[i,:].reshape(28,28),cmap='gray')\n",
        "    plt.title(\"Predicted Label = %s\" %Classes[Y_P[i]])\n",
        "    plt.show()\n",
        "\n"
      ]
    },
    {
      "cell_type": "code",
      "execution_count": null,
      "metadata": {
        "id": "cXQQKbrBB0st"
      },
      "outputs": [],
      "source": []
    }
  ],
  "metadata": {
    "kernelspec": {
      "display_name": "Python 3.10.8 64-bit",
      "language": "python",
      "name": "python3"
    },
    "language_info": {
      "codemirror_mode": {
        "name": "ipython",
        "version": 3
      },
      "file_extension": ".py",
      "mimetype": "text/x-python",
      "name": "python",
      "nbconvert_exporter": "python",
      "pygments_lexer": "ipython3",
      "version": "3.10.8"
    },
    "orig_nbformat": 4,
    "vscode": {
      "interpreter": {
        "hash": "e7370f93d1d0cde622a1f8e1c04877d8463912d04d973331ad4851f04de6915a"
      }
    },
    "colab": {
      "provenance": []
    },
    "widgets": {
      "application/vnd.jupyter.widget-state+json": {
        "d923122d30e94adc84c362d050312abf": {
          "model_module": "@jupyter-widgets/controls",
          "model_name": "HBoxModel",
          "model_module_version": "1.5.0",
          "state": {
            "_dom_classes": [],
            "_model_module": "@jupyter-widgets/controls",
            "_model_module_version": "1.5.0",
            "_model_name": "HBoxModel",
            "_view_count": null,
            "_view_module": "@jupyter-widgets/controls",
            "_view_module_version": "1.5.0",
            "_view_name": "HBoxView",
            "box_style": "",
            "children": [
              "IPY_MODEL_f84588c742374da3b874e0af8a329cdd",
              "IPY_MODEL_7d33288d3f5f4a28ac278b235f89f801",
              "IPY_MODEL_974426c516aa4f9aa19c81412a4d3516"
            ],
            "layout": "IPY_MODEL_f8a6fe9d86a64c51af1f3585d521dc21"
          }
        },
        "e5fd2936c7b24274882b6cf9e60ce673": {
          "model_module": "@jupyter-widgets/controls",
          "model_name": "HBoxModel",
          "model_module_version": "1.5.0",
          "state": {
            "_dom_classes": [],
            "_model_module": "@jupyter-widgets/controls",
            "_model_module_version": "1.5.0",
            "_model_name": "HBoxModel",
            "_view_count": null,
            "_view_module": "@jupyter-widgets/controls",
            "_view_module_version": "1.5.0",
            "_view_name": "HBoxView",
            "box_style": "",
            "children": [
              "IPY_MODEL_42fd7b1f5c9d47f29763418005c9ec17",
              "IPY_MODEL_0cb1bf9e7180492a88f43ff31073e7fb",
              "IPY_MODEL_e0f9800ef7354403ae3fc07b8ddf14fc"
            ],
            "layout": "IPY_MODEL_94bca53ccbbe46f480df4fe42ebad1f5"
          }
        },
        "ce1824ffcf914a65b9ef5c7e7ce221c3": {
          "model_module": "@jupyter-widgets/controls",
          "model_name": "HBoxModel",
          "model_module_version": "1.5.0",
          "state": {
            "_dom_classes": [],
            "_model_module": "@jupyter-widgets/controls",
            "_model_module_version": "1.5.0",
            "_model_name": "HBoxModel",
            "_view_count": null,
            "_view_module": "@jupyter-widgets/controls",
            "_view_module_version": "1.5.0",
            "_view_name": "HBoxView",
            "box_style": "",
            "children": [
              "IPY_MODEL_5e71d0f402964f93854721146e210295",
              "IPY_MODEL_ba2f410bbde34f0597afbd0f5d537a48",
              "IPY_MODEL_f0bc70c3a00f496f82d10d21f8026688"
            ],
            "layout": "IPY_MODEL_96d1a7a5ebb84b4ca473f671e70e9589"
          }
        },
        "aa38dff54d6e4f37a60c405bf0bb3e47": {
          "model_module": "@jupyter-widgets/controls",
          "model_name": "HBoxModel",
          "model_module_version": "1.5.0",
          "state": {
            "_dom_classes": [],
            "_model_module": "@jupyter-widgets/controls",
            "_model_module_version": "1.5.0",
            "_model_name": "HBoxModel",
            "_view_count": null,
            "_view_module": "@jupyter-widgets/controls",
            "_view_module_version": "1.5.0",
            "_view_name": "HBoxView",
            "box_style": "",
            "children": [
              "IPY_MODEL_2abc125e54054b059718bc7cc03d78c3",
              "IPY_MODEL_4fba66df16c84ab1b468c0f029208f44",
              "IPY_MODEL_eea98f480ecf4a9781e864921681b7b8"
            ],
            "layout": "IPY_MODEL_bfb1ceb0306d4b469221e57ef6701556"
          }
        }
      }
    }
  },
  "nbformat": 4,
  "nbformat_minor": 0
}